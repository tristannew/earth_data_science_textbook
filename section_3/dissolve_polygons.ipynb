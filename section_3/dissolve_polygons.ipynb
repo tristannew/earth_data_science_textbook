{
 "cells": [
  {
   "cell_type": "code",
   "execution_count": 1,
   "metadata": {},
   "outputs": [
    {
     "name": "stdout",
     "output_type": "stream",
     "text": [
      "Downloading from https://ndownloader.figshare.com/files/12459464\n"
     ]
    }
   ],
   "source": [
    "# Import libraries\n",
    "import os\n",
    "import numpy as np\n",
    "import matplotlib.pyplot as plt\n",
    "import matplotlib.lines as mlines\n",
    "from matplotlib.colors import ListedColormap\n",
    "import seaborn as sns\n",
    "from shapely.geometry import box\n",
    "import geopandas as gpd\n",
    "import earthpy as et\n",
    "\n",
    "# Adjust plot font sizes\n",
    "sns.set(font_scale=1.5)\n",
    "sns.set_style(\"white\")\n",
    "\n",
    "# Set working dir & get data\n",
    "data = et.data.get_data('spatial-vector-lidar')\n",
    "source_folder = os.path.join(et.io.HOME, 'earth-analytics')\n",
    "destination_folder = os.path.join(os.getcwd(), 'data')\n",
    "os.rename(source_folder, destination_folder)"
   ]
  },
  {
   "cell_type": "code",
   "execution_count": null,
   "metadata": {},
   "outputs": [],
   "source": [
    "https://ndownloader.figshare.com/files/12459464"
   ]
  },
  {
   "cell_type": "code",
   "execution_count": null,
   "metadata": {},
   "outputs": [],
   "source": [
    "# Define base path as it is repeated below\n",
    "base_path = os.path.join(\"data\", \"spatial-vector-lidar\")\n",
    "\n",
    "# Define file paths\n",
    "country_boundary_path = os.path.join(base_path, \"usa\", \n",
    "                                     \"usa-boundary-dissolved.shp\")\n",
    "\n",
    "state_boundary_path = os.path.join(base_path, \"usa\", \n",
    "                                   \"usa-states-census-2014.shp\")\n",
    "\n",
    "pop_places_path = os.path.join(base_path, \"global\", \"ne_110m_populated_places_simple\", \n",
    "                               \"ne_110m_populated_places_simple.shp\")\n",
    "\n",
    "# Import the data\n",
    "country_boundary_us = gpd.read_file(country_boundary_path)\n",
    "state_boundary_us = gpd.read_file(state_boundary_path)\n",
    "pop_places = gpd.read_file(pop_places_path)"
   ]
  }
 ],
 "metadata": {
  "kernelspec": {
   "display_name": "earth-data-science-textbook-VbL9wLaR-py3.10",
   "language": "python",
   "name": "python3"
  },
  "language_info": {
   "codemirror_mode": {
    "name": "ipython",
    "version": 3
   },
   "file_extension": ".py",
   "mimetype": "text/x-python",
   "name": "python",
   "nbconvert_exporter": "python",
   "pygments_lexer": "ipython3",
   "version": "3.10.12"
  }
 },
 "nbformat": 4,
 "nbformat_minor": 2
}
