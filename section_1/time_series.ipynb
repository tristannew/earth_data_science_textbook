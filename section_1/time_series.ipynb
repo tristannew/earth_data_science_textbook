{
 "cells": [
  {
   "cell_type": "code",
   "execution_count": null,
   "metadata": {},
   "outputs": [],
   "source": [
    "# Import necessary packages\n",
    "from matplotlib.axes._axes import _log as matplotlib_axes_logger\n",
    "import os\n",
    "import matplotlib.pyplot as plt\n",
    "import seaborn as sns\n",
    "import pandas as pd\n",
    "import earthpy as et\n",
    "\n",
    "# Handle date time conversions between pandas and matplotlib\n",
    "from pandas.plotting import register_matplotlib_converters\n",
    "register_matplotlib_converters()\n",
    "\n",
    "# Dealing with error thrown by one of the plots\n",
    "matplotlib_axes_logger.setLevel('ERROR')\n",
    "import warnings\n",
    "warnings.filterwarnings('ignore')\n",
    "\n",
    "\n",
    "# Adjust font size and style of all plots in notebook with seaborn\n",
    "sns.set(font_scale=1.5, style=\"whitegrid\")"
   ]
  },
  {
   "cell_type": "code",
   "execution_count": null,
   "metadata": {},
   "outputs": [],
   "source": [
    "# Download the data\n",
    "data = et.data.get_data('colorado-flood')\n",
    "\n",
    "# Set working directory\n",
    "os.chdir(os.path.join(et.io.HOME, 'earth-analytics', \"data\"))"
   ]
  },
  {
   "cell_type": "code",
   "execution_count": null,
   "metadata": {},
   "outputs": [],
   "source": [
    "# Define relative path to the data\n",
    "file_path = os.path.join(\"colorado-flood\",\n",
    "                         \"precipitation\",\n",
    "                         \"805325-precip-daily-2003-2013.csv\")\n",
    "\n",
    "# Import the file as a pandas dataframe\n",
    "boulder_precip_2003_2013 = pd.read_csv(file_path)\n",
    "boulder_precip_2003_2013.head()"
   ]
  },
  {
   "cell_type": "code",
   "execution_count": null,
   "metadata": {},
   "outputs": [],
   "source": [
    "# Import data using datetime and no data value\n",
    "boulder_precip_2003_2013 = pd.read_csv(file_path,\n",
    "                                       # Make sure the dates import in datetime format\n",
    "                                       parse_dates=['DATE'],\n",
    "                                       # Set DATE as the index so you can subset data by time period\n",
    "                                       index_col=['DATE'],\n",
    "                                       # Mask no data values so they are not plotted / used in analysis\n",
    "                                       na_values=['999.99'])\n",
    "\n",
    "# View the data\n",
    "boulder_precip_2003_2013.head()"
   ]
  },
  {
   "cell_type": "code",
   "execution_count": null,
   "metadata": {},
   "outputs": [],
   "source": [
    "boulder_precip_2003_2013.plot(y=\"HPCP\",\n",
    "                              title=\"Hourly Precipitation\")\n",
    "plt.show()"
   ]
  },
  {
   "cell_type": "code",
   "execution_count": null,
   "metadata": {},
   "outputs": [],
   "source": [
    "# Subset data from 2005\n",
    "precip_2005 = boulder_precip_2003_2013['2005']\n",
    "precip_2005.head()"
   ]
  },
  {
   "cell_type": "code",
   "execution_count": null,
   "metadata": {},
   "outputs": [],
   "source": [
    "precip_2005_daily = precip_2005_clean.resample(\"D\").sum()\n",
    "# Plot the data using native matplotlib\n",
    "f, ax = plt.subplots()\n",
    "ax.scatter(x=precip_2005_daily.index.values,\n",
    "           y=precip_2005_daily[\"HPCP\"])\n",
    "plt.show()"
   ]
  }
 ],
 "metadata": {
  "language_info": {
   "name": "python"
  }
 },
 "nbformat": 4,
 "nbformat_minor": 2
}
